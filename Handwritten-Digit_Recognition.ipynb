{
 "cells": [
  {
   "cell_type": "code",
   "execution_count": 136,
   "id": "bf3c0c24-28eb-49d6-9d35-1927f5fa3a78",
   "metadata": {},
   "outputs": [],
   "source": [
    "import numpy as np\n",
    "import pandas as pd \n",
    "import matplotlib.pyplot as plt\n",
    "import seaborn as sns\n",
    "from sklearn.model_selection import train_test_split\n",
    "from sklearn.metrics import confusion_matrix, classification_report, accuracy_score\n",
    "from sklearn.preprocessing import MinMaxScaler\n",
    "from sklearn.ensemble import RandomForestClassifier"
   ]
  },
  {
   "cell_type": "code",
   "execution_count": 23,
   "id": "e360e98b-ed44-4ea7-8c16-f115929df191",
   "metadata": {},
   "outputs": [],
   "source": [
    "\n",
    "train_data = pd.read_csv('train.csv')\n",
    "test_data = pd.read_csv('test.csv')\n",
    "\n",
    "X = train_data.drop('label', axis=1)\n",
    "y = train_data['label']\n",
    "\n",
    "X_test = test_data\n",
    "\n",
    "scaler = MinMaxScaler()\n",
    "X_scaled = scaler.fit_transform(X)\n",
    "X_test_scaled = scaler.transform(X_test)"
   ]
  },
  {
   "cell_type": "code",
   "execution_count": 25,
   "id": "042351c0-39d0-4ae8-a2bc-c0d35a442cf4",
   "metadata": {},
   "outputs": [],
   "source": [
    "X_scaled_reshaped = X_scaled.reshape(-1,28,28,1)\n",
    "X_test_scaled_reshaped = X_test_scaled.reshape(-1,28,28,1)"
   ]
  },
  {
   "cell_type": "code",
   "execution_count": 27,
   "id": "7c42afe0-b2e2-402d-a9f6-0693cc817471",
   "metadata": {},
   "outputs": [
    {
     "data": {
      "image/png": "[encoded data removed]",
      "text/plain": [
       "<Figure size 640x480 with 1 Axes>"
      ]
     },
     "metadata": {},
     "output_type": "display_data"
    },
    {
     "data": {
      "text/plain": [
       "<Figure size 400x400 with 0 Axes>"
      ]
     },
     "metadata": {},
     "output_type": "display_data"
    }
   ],
   "source": [
    "image = X.iloc[0].values.reshape(28,28)\n",
    "plt.imshow(image,cmap='gray')\n",
    "plt.figure(figsize=(4, 4))\n",
    "plt.show()"
   ]
  },
  {
   "cell_type": "code",
   "execution_count": 21,
   "id": "3c041731-0d38-4ca3-aa51-ae121801489c",
   "metadata": {},
   "outputs": [
    {
     "data": {
      "image/png": "[encoded data removed]",
      "text/plain": [
       "<Figure size 1000x500 with 1 Axes>"
      ]
     },
     "metadata": {},
     "output_type": "display_data"
    }
   ],
   "source": [
    "\n",
    "plt.figure(figsize=(10,5))\n",
    "sns.countplot(x=y)\n",
    "plt.title('Distribution of Digits in Training Set')\n",
    "plt.xlabel('Digit')\n",
    "plt.ylabel('Count')\n",
    "plt.show()"
   ]
  },
  {
   "cell_type": "code",
   "execution_count": 28,
   "id": "db1866f9-f993-4cf7-87d2-7968449a25bb",
   "metadata": {},
   "outputs": [
    {
     "name": "stdout",
     "output_type": "stream",
     "text": [
      "Min pixel value after scaling: 0.0\n",
      "Max pixel value after scaling: 1.0\n"
     ]
    }
   ],
   "source": [
    "X_train, X_val, y_train, y_val = train_test_split(X_scaled, y,test_size=0.2, random_state=42)"
   ]
  },
  {
   "cell_type": "code",
   "execution_count": 36,
   "id": "b6b9e0a0-36b4-4f8b-b56f-2903f711f35b",
   "metadata": {
    "scrolled": true
   },
   "outputs": [
    {
     "name": "stdout",
     "output_type": "stream",
     "text": [
      "\n",
      "Classification Report:\n",
      "              precision    recall  f1-score   support\n",
      "\n",
      "           0       0.98      0.99      0.98       816\n",
      "           1       0.98      0.99      0.99       909\n",
      "           2       0.97      0.96      0.97       846\n",
      "           3       0.96      0.95      0.96       937\n",
      "           4       0.96      0.97      0.96       839\n",
      "           5       0.96      0.96      0.96       702\n",
      "           6       0.97      0.98      0.98       785\n",
      "           7       0.97      0.95      0.96       893\n",
      "           8       0.96      0.96      0.96       835\n",
      "           9       0.94      0.94      0.94       838\n",
      "\n",
      "    accuracy                           0.97      8400\n",
      "   macro avg       0.97      0.97      0.97      8400\n",
      "weighted avg       0.97      0.97      0.97      8400\n",
      "\n",
      "Logistic Regression Accuracy: 0.9654761904761905\n"
     ]
    }
   ],
   "source": [
    "rf_model = RandomForestClassifier(n_estimators=100, random_state =42)\n",
    "rf_model.fit(X_train,y_train)\n",
    "y_pred = rf_model.predict(X_val)\n",
    "print(\"\\nClassification Report:\") \n",
    "print(classification_report(y_val, y_pred))"
   ]
  },
  {
   "cell_type": "code",
   "execution_count": 126,
   "id": "995e062b-3661-448a-a7c4-1d1929d497db",
   "metadata": {},
   "outputs": [],
   "source": [
    "# Build CNN Model\n",
    "import tensorflow as tf\n",
    "from tensorflow.keras import Sequential\n",
    "from tensorflow.keras.layers import Conv2D, MaxPooling2D, Flatten, Dense, Dropout\n",
    "from tensorflow.keras.utils import to_categorical"
   ]
  },
  {
   "cell_type": "code",
   "execution_count": 127,
   "id": "9d593bdc-772c-47a6-8802-53d8b155b6af",
   "metadata": {},
   "outputs": [
    {
     "name": "stdout",
     "output_type": "stream",
     "text": [
      "Original pixel value range: 0 - 255\n"
     ]
    }
   ],
   "source": [
    "train_data2 = pd.read_csv('train.csv')\n",
    "test_data2 = pd.read_csv('test.csv')\n",
    "\n",
    "X2 = train_data.drop('label', axis=1).values\n",
    "y2 = train_data['label'].values\n",
    "\n",
    "X_test2 = test_data\n",
    "\n",
    "print(\"Original pixel value range:\", X2.min(), \"-\", X2.max())"
   ]
  },
  {
   "cell_type": "code",
   "execution_count": 128,
   "id": "ef7db904-83bb-450f-bc90-3c19a677b9f6",
   "metadata": {},
   "outputs": [],
   "source": [
    "# Reshape and normalize\n",
    "X2 = X2.reshape(-1,28,28,1) / 255 # Normalize pixel values to [0, 1]\n",
    "X_test2 = X_test2.values.reshape(-1,28,28,1) /255\n",
    "\n",
    "# Split data into training and validation sets\n",
    "X_train2, X_val2, y_train2, y_val2 = train_test_split(X2, y2,test_size=0.2, random_state=42)\n",
    "\n",
    "#One-hot encode the labels\n",
    "y_train2 = to_categorical(y_train2, num_classes=10)\n",
    "y_val2 = to_categorical(y_val2, num_classes=10)"
   ]
  },
  {
   "cell_type": "code",
   "execution_count": 129,
   "id": "193f2a6e-9083-4571-9139-cec5183bbbfd",
   "metadata": {},
   "outputs": [
    {
     "name": "stdout",
     "output_type": "stream",
     "text": [
      "Pixel value range in X_train2: 0.0 - 1.0\n"
     ]
    }
   ],
   "source": [
    "print(\"Pixel value range in X_train2:\", X_train2.min(), \"-\", X_train2.max())"
   ]
  },
  {
   "cell_type": "code",
   "execution_count": 130,
   "id": "db21ba32-0996-4f0e-abde-7179b5ae71cb",
   "metadata": {},
   "outputs": [],
   "source": [
    "modelc = Sequential([\n",
    "    Conv2D(32, (3,3), activation='relu', input_shape=(28,28,1)), #vConvolutional Layer\n",
    "    MaxPooling2D((2,2)), # Max-Pooling Layer\n",
    "    Dropout(0.25), # Dropout to prevent overfitting\n",
    "\n",
    "    Conv2D(64, (3,3), activation='relu'),\n",
    "    MaxPooling2D((2,2)),\n",
    "    Dropout(0.25),\n",
    "\n",
    "    Flatten(),\n",
    "    Dense(128, activation='relu'),\n",
    "    Dropout(0.5),\n",
    "    Dense(10, activation='softmax')])"
   ]
  },
  {
   "cell_type": "code",
   "execution_count": 131,
   "id": "a80643c8-ba6b-43fd-89bf-bd754115e3ae",
   "metadata": {},
   "outputs": [],
   "source": [
    "modelc.compile(optimizer='adam',\n",
    "               loss='categorical_crossentropy',\n",
    "               metrics=['accuracy'])"
   ]
  },
  {
   "cell_type": "code",
   "execution_count": 132,
   "id": "27b38396-fa3a-4023-9749-21a3f786dea1",
   "metadata": {},
   "outputs": [
    {
     "name": "stdout",
     "output_type": "stream",
     "text": [
      "Epoch 1/10\n",
      "1050/1050 [==============================] - 10s 9ms/step - loss: 0.3336 - accuracy: 0.8952 - val_loss: 0.0844 - val_accuracy: 0.9733\n",
      "Epoch 2/10\n",
      "1050/1050 [==============================] - 10s 9ms/step - loss: 0.1258 - accuracy: 0.9617 - val_loss: 0.0580 - val_accuracy: 0.9818\n",
      "Epoch 3/10\n",
      "1050/1050 [==============================] - 10s 9ms/step - loss: 0.0908 - accuracy: 0.9729 - val_loss: 0.0509 - val_accuracy: 0.9829\n",
      "Epoch 4/10\n",
      "1050/1050 [==============================] - 10s 9ms/step - loss: 0.0827 - accuracy: 0.9750 - val_loss: 0.0427 - val_accuracy: 0.9863\n",
      "Epoch 5/10\n",
      "1050/1050 [==============================] - 10s 9ms/step - loss: 0.0703 - accuracy: 0.9780 - val_loss: 0.0370 - val_accuracy: 0.9885\n",
      "Epoch 6/10\n",
      "1050/1050 [==============================] - 10s 9ms/step - loss: 0.0625 - accuracy: 0.9815 - val_loss: 0.0329 - val_accuracy: 0.9889\n",
      "Epoch 7/10\n",
      "1050/1050 [==============================] - 10s 9ms/step - loss: 0.0552 - accuracy: 0.9831 - val_loss: 0.0363 - val_accuracy: 0.9881\n",
      "Epoch 8/10\n",
      "1050/1050 [==============================] - 10s 9ms/step - loss: 0.0527 - accuracy: 0.9841 - val_loss: 0.0337 - val_accuracy: 0.9886\n",
      "Epoch 9/10\n",
      "1050/1050 [==============================] - 10s 9ms/step - loss: 0.0450 - accuracy: 0.9859 - val_loss: 0.0290 - val_accuracy: 0.9913\n",
      "Epoch 10/10\n",
      "1050/1050 [==============================] - 10s 9ms/step - loss: 0.0438 - accuracy: 0.9866 - val_loss: 0.0307 - val_accuracy: 0.9904\n"
     ]
    }
   ],
   "source": [
    "history = modelc.fit(\n",
    "    X_train2, y_train2,\n",
    "    validation_data=(X_val2,y_val2),\n",
    "    epochs=10,\n",
    "    batch_size=32)"
   ]
  },
  {
   "cell_type": "code",
   "execution_count": 134,
   "id": "aa0598b4-261a-4a2d-a9c3-be0e56f6914e",
   "metadata": {},
   "outputs": [
    {
     "name": "stdout",
     "output_type": "stream",
     "text": [
      "263/263 [==============================] - 1s 3ms/step - loss: 0.0307 - accuracy: 0.9904\n",
      "Validation Accuracy: 99.04%\n"
     ]
    }
   ],
   "source": [
    "val_loss, val_accuracy = modelc.evaluate(X_val2, y_val2)\n",
    "print(f\"Validation Accuracy: {val_accuracy * 100:.2f}%\")"
   ]
  },
  {
   "cell_type": "code",
   "execution_count": 135,
   "id": "50985913-df7b-4aa4-bb2e-0ebf374c8d57",
   "metadata": {},
   "outputs": [
    {
     "name": "stdout",
     "output_type": "stream",
     "text": [
      "875/875 [==============================] - 2s 2ms/step\n"
     ]
    }
   ],
   "source": [
    "y_test_pred = modelc.predict(X_test2)\n",
    "y_test_labels = np.argmax(y_test_pred, axis=1)\n",
    "\n",
    "# Create a DataFrame with ImageId and Label\n",
    "submission = pd.DataFrame({\n",
    "    'ImageId': range(1, len(y_test_labels) + 1),  # ImageId starts from 1\n",
    "    'Label': y_test_labels\n",
    "})\n",
    "submission.to_csv('submission.csv', index=False)\n"
   ]
  },
  {
   "cell_type": "code",
   "execution_count": null,
   "id": "23820468-6942-4da7-9c09-dfd589df8948",
   "metadata": {},
   "outputs": [],
   "source": []
  }
 ],
 "metadata": {
  "kernelspec": {
   "display_name": "Python 3 (ipykernel)",
   "language": "python",
   "name": "python3"
  },
  "language_info": {
   "codemirror_mode": {
    "name": "ipython",
    "version": 3
   },
   "file_extension": ".py",
   "mimetype": "text/x-python",
   "name": "python",
   "nbconvert_exporter": "python",
   "pygments_lexer": "ipython3",
   "version": "3.8.19"
  }
 },
 "nbformat": 4,
 "nbformat_minor": 5
}
